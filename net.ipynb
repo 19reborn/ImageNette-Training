{
 "cells": [
  {
   "cell_type": "code",
   "execution_count": 1,
   "id": "earlier-diamond",
   "metadata": {},
   "outputs": [],
   "source": [
    "import os\n",
    "import time\n",
    "import torch\n",
    "import torch.nn as nn\n",
    "import torchvision\n",
    "from torchvision import transforms, models ,datasets\n",
    "from torch.utils.data import Dataset, DataLoader, random_split\n",
    "from torch.autograd import Variable\n",
    "import torch.optim as optim\n",
    "from torch.optim import lr_scheduler\n",
    "import matplotlib.pyplot as plt\n",
    "import pandas as pd\n",
    "import numpy as np\n",
    "import time\n",
    "from PIL import Image"
   ]
  },
  {
   "cell_type": "code",
   "execution_count": 2,
   "id": "rental-consumption",
   "metadata": {},
   "outputs": [
    {
     "data": {
      "text/plain": [
       "device(type='cuda')"
      ]
     },
     "execution_count": 2,
     "metadata": {},
     "output_type": "execute_result"
    }
   ],
   "source": [
    "device = torch.device(\"cuda\" if torch.cuda.is_available() else \"cpu\")\n",
    "device"
   ]
  },
  {
   "cell_type": "code",
   "execution_count": 3,
   "id": "organizational-petersburg",
   "metadata": {},
   "outputs": [],
   "source": [
    "from mxnet.gluon import data as gdata\n",
    "train_transform = transforms.Compose([\n",
    "    # 随机对图像裁剪出面积为原图像面积0.08~1倍、且高和宽之比在3/4~4/3的图像，再放缩为224*224的新图像\n",
    "    transforms.RandomResizedCrop(224, scale=(0.08, 1.0),ratio=(3.0/4.0, 4.0/3.0)),\n",
    "    # 随机水平翻转\n",
    "    transforms.RandomHorizontalFlip(),\n",
    "    # 随机变化亮度、对比度和饱和度    \n",
    "    transforms.ColorJitter(brightness=0.4, contrast=0.4,saturation=0.4),\n",
    "    transforms.ToTensor(),\n",
    "    # 标准化\n",
    "    transforms.Normalize([0.485, 0.456, 0.406], [0.229, 0.224, 0.225])\n",
    "])\n",
    "\n",
    "\n",
    "test_transform = transforms.Compose([\n",
    "    #缩放到256*256的图像\n",
    "    transforms.Resize(256),\n",
    "    #中心裁剪到224*224的图像\n",
    "    transforms.CenterCrop(224),\n",
    "    transforms.ToTensor(),\n",
    "    transforms.Normalize([0.485, 0.456, 0.406], [0.229, 0.224, 0.225])\n",
    "])"
   ]
  },
  {
   "cell_type": "code",
   "execution_count": 4,
   "id": "substantial-morrison",
   "metadata": {},
   "outputs": [],
   "source": [
    "train_dataset = datasets.ImageFolder(\n",
    "    \"./data/imagenette2/train\",\n",
    "    train_transform\n",
    ")\n",
    "\n",
    "test_dataset =datasets.ImageFolder(\n",
    "    \"./data/imagenette2/val\",\n",
    "    test_transform\n",
    ")"
   ]
  },
  {
   "cell_type": "code",
   "execution_count": 5,
   "id": "cardiac-reflection",
   "metadata": {},
   "outputs": [],
   "source": [
    "Batch = 64\n",
    "EPOCH = 200\n",
    "LR = 0.01"
   ]
  },
  {
   "cell_type": "code",
   "execution_count": 6,
   "id": "wireless-publication",
   "metadata": {},
   "outputs": [],
   "source": [
    "train_loader = DataLoader(train_dataset, shuffle=True, batch_size=Batch, num_workers=5)\n",
    "test_loader = DataLoader(test_dataset, shuffle=False, batch_size=Batch, num_workers=5)"
   ]
  },
  {
   "cell_type": "code",
   "execution_count": 7,
   "id": "fifteen-reality",
   "metadata": {},
   "outputs": [],
   "source": [
    "class Net(nn.Module):\n",
    "    def __init__(self):\n",
    "        super(Net, self).__init__()\n",
    "        self.model = models.resnet101(pretrained=False)\n",
    "        self.model.fc = nn.Linear(2048, 10)\n",
    "    \n",
    "    def forward(self, x):\n",
    "        output = self.model(x)\n",
    "        return output"
   ]
  },
  {
   "cell_type": "code",
   "execution_count": 8,
   "id": "becoming-dynamics",
   "metadata": {},
   "outputs": [
    {
     "name": "stdout",
     "output_type": "stream",
     "text": [
      "Ranger optimizer loaded. \n",
      "Gradient Centralization usage = True\n",
      "GC applied to both conv and fc layers\n"
     ]
    }
   ],
   "source": [
    "import ranger\n",
    "\n",
    "net=Net()\n",
    "net.to(device)\n",
    "criterion = nn.CrossEntropyLoss()\n",
    "optimizer = ranger.Ranger(net.parameters(),lr=LR,eps=1e-6)\n",
    "scheduler = lr_scheduler.CosineAnnealingLR(optimizer,EPOCH+20)\n",
    "\n",
    "loss_history=[]\n",
    "acc_history=[]\n",
    "tacc_history=[]\n",
    "tloss_history=[]\n",
    "lr_list=[]\n",
    "best_acc=0\n",
    "best_epoch=0"
   ]
  },
  {
   "cell_type": "code",
   "execution_count": null,
   "id": "infrared-system",
   "metadata": {
    "scrolled": true
   },
   "outputs": [
    {
     "name": "stdout",
     "output_type": "stream",
     "text": [
      "Epoch 0 / 300\n"
     ]
    }
   ],
   "source": [
    "start_time = time.time()\n",
    "for epoch in range(EPOCH):\n",
    "    epoch_time = time.time()\n",
    "    epoch_loss = 0\n",
    "    correct = 0\n",
    "    total=0    \n",
    "    scheduler.step()\n",
    "    lr_list.append(scheduler.get_lr())\n",
    "    print(\"Epoch {} / {}\".format(epoch, EPOCH))\n",
    "    net.train()\n",
    "    for inputs, labels in train_loader:\n",
    "        inputs = inputs.to(device)\n",
    "        labels = labels.to(device)\n",
    "    \n",
    "        outputs = net(inputs) # 前向传播\n",
    "        loss = criterion(outputs, labels) # softmax + cross entropy\n",
    "        optimizer.zero_grad() # 梯度清零\n",
    "        loss.backward() # 反向传播\n",
    "        optimizer.step() \n",
    "        epoch_loss += loss.item() \n",
    "        outputs = nn.functional.softmax(outputs,dim=1)\n",
    "        _, pred = torch.max(outputs, dim=1)\n",
    "        correct += (pred.cpu() == labels.cpu()).sum().item()\n",
    "        total += labels.shape[0]\n",
    "    acc = correct / total\n",
    "    loss_history.append(epoch_loss/len(labels))\n",
    "    acc_history.append(acc)\n",
    "    \n",
    "    #计算测试集准确率及Loss\n",
    "    correct = 0\n",
    "    total = 0\n",
    "    test_loss = 0\n",
    "    net.eval()\n",
    "    with torch.no_grad():\n",
    "        for images, labels in test_loader:\n",
    "            images = images.to(device)\n",
    "            labels = labels.to(device)            \n",
    "            outputs = net(images)\n",
    "            loss = criterion(outputs, labels) # softmax + cross entropy\n",
    "            test_loss += loss.item()\n",
    "            outputs = nn.functional.softmax(outputs,dim=1)\n",
    "            _, pred = torch.max(outputs, dim=1)\n",
    "            correct += (pred.cpu() == labels.cpu()).sum().item()\n",
    "            total += labels.shape[0]\n",
    "    \n",
    "    tacc = correct / total\n",
    "    \n",
    "    epoch_time2 = time.time()\n",
    "    print(\"Duration: {:.0f}s, Train Loss: {:.4f}, Train Acc: {:.4f}， Test Acc : {:.4f}, Test Loss: {:.4f}\".format(epoch_time2-epoch_time, epoch_loss/len(labels), acc, tacc, test_loss/len(labels)))\n",
    "    if tacc>best_acc:\n",
    "        best_acc = tacc\n",
    "        best_epoch = epoch\n",
    "        torch.save(net.state_dict(), './model_1.pth') #保存模型\n",
    "    end_time = time.time()\n",
    "    \n",
    "    tacc_history.append(tacc)\n",
    "    tloss_history.append(test_loss/len(labels))\n",
    "    \n",
    "print(\"Total Time:{:.0f}s\".format(end_time-start_time))\n"
   ]
  },
  {
   "cell_type": "code",
   "execution_count": null,
   "id": "organic-market",
   "metadata": {
    "scrolled": true
   },
   "outputs": [],
   "source": [
    "plt.plot(np.arange(1,EPOCH+1),lr_list,'b-',color = 'b')\n",
    "plt.xlabel(\"epoch\")#横坐标名字\n",
    "plt.ylabel(\"Learning Rate\")#纵坐标名字\n",
    "plt.title('Learning Rate Curve')\n",
    "plt.savefig('./nopre_result/lr_test.png', bbox_inches = 'tight')\n",
    "plt.close"
   ]
  },
  {
   "cell_type": "code",
   "execution_count": null,
   "id": "greater-silver",
   "metadata": {
    "scrolled": true
   },
   "outputs": [],
   "source": [
    "x=np.arange(1,EPOCH+1)\n",
    "loss_history=np.array(loss_history)\n",
    "tloss_history=np.array(tloss_history)\n",
    "plt.plot(x,loss_history,'s-',color = 'r', label = 'train_loss')#s-:方形\n",
    "plt.plot(x,tloss_history,'o-',color = 'g', label ='test_loss')#o-:圆形\n",
    "plt.legend()\n",
    "plt.xlabel(\"epoch\")#横坐标名字\n",
    "plt.ylabel(\"Loss\")#纵坐标名字\n",
    "plt.title('Loss Curve')\n",
    "plt.savefig('./nopre_result/loss_test.png', bbox_inches = 'tight')\n",
    "plt.close()"
   ]
  },
  {
   "cell_type": "code",
   "execution_count": null,
   "id": "aggregate-radius",
   "metadata": {},
   "outputs": [],
   "source": [
    "x=np.arange(1,EPOCH+1)\n",
    "acc_history=np.array(acc_history)\n",
    "tacc_history=np.array(tacc_history)\n",
    "plt.plot(x,acc_history,'s-',color = 'r', label = 'train_accuracy')#s-:方形\n",
    "plt.plot(x,tacc_history,'o-',color = 'g', label ='test_accuracy')#o-:圆形\n",
    "plt.legend()\n",
    "plt.xlabel(\"epoch\")#横坐标名字\n",
    "plt.ylabel(\"Accuracy\")#纵坐标名字\n",
    "plt.title('Accuracy Curve')\n",
    "plt.savefig('./nopre_result/acc_test.png', bbox_inches = 'tight')\n",
    "plt.close()"
   ]
  },
  {
   "cell_type": "code",
   "execution_count": null,
   "id": "exotic-loading",
   "metadata": {},
   "outputs": [],
   "source": [
    "print('Best Accuracy of the network on the test images: %.4f %%' % (100*best_acc))\n",
    "print('Best epoch: %d' % (best_epoch))"
   ]
  },
  {
   "cell_type": "code",
   "execution_count": null,
   "id": "dutch-georgia",
   "metadata": {},
   "outputs": [],
   "source": []
  },
  {
   "cell_type": "code",
   "execution_count": null,
   "id": "built-council",
   "metadata": {},
   "outputs": [],
   "source": []
  }
 ],
 "metadata": {
  "kernelspec": {
   "display_name": "Python 3",
   "language": "python",
   "name": "python3"
  },
  "language_info": {
   "codemirror_mode": {
    "name": "ipython",
    "version": 3
   },
   "file_extension": ".py",
   "mimetype": "text/x-python",
   "name": "python",
   "nbconvert_exporter": "python",
   "pygments_lexer": "ipython3",
   "version": "3.7.4"
  }
 },
 "nbformat": 4,
 "nbformat_minor": 5
}
